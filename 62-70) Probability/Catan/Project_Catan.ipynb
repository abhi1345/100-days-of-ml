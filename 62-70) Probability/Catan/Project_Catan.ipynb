{
 "cells": [
  {
   "cell_type": "markdown",
   "metadata": {},
   "source": [
    "# Project (Option 1) - Settlers of Catan \n",
    "\n",
    "#### Authors:\n",
    "\n",
    "v1.0 (2016 Spring) David Marn, Ashvin Nair, Kabir Chandrasekher, Tony Duan, Kangwook Lee, Kannan Ramchandran\n",
    "\n",
    "v1.1 (2017 Spring) Tavor Baharav, Kabir Chandrasekhar, Sinho Chewi, Andrew Liu, Kamil Nar, David Wang, and Kannan Ramchandran\n",
    "\n",
    "v1.2 (2018 Spring) Tavor Baharav, Kaylee Burns, Gary Cheng, Sinho Chewi, Hemang Jangle, William Gan, Alvin Kao, Chen Meng, Vrettos Muolos, Kanaad Parvate, Ray Ramamurti, and Kannan Ramchandran\n",
    "\n",
    "v1.3 (2018 Fall) Justin Hong, Eric Liu, Ray Ramamurti, Raghav Anand, Kurtland Chua, Payam Delgosha, William Gan, Avishek Ghosh, Nikunj Jain, Katie Kang, Adarsh Karnati, Kanaad Parvate, Amay Saxena, Kannan Ramchandran, Abhay Parekh\n",
    "\n",
    "## Introduction\n",
    "The goal of the game is to get $10$ victory points as fast as possible. To get these points, the player must choose a wise trade-off between spending resources to potentially obtain points and upgrading their modes of production. You, the chieftain of the island, must decide where and when to build additional <font color=purple>settlements</font> on the island to boost your resource production, with roads to connect them. Alternatively, you can invest into development cards, which will bring you a victory point, or upgrade a settlement into a <font color=blue>city</font> which doubles production and gives you another victory point. A settlement / city must border on a resource field in order to harvest its resources. We will have three different terrains: forests, which produce <font color=brown>wood</font>, hills which produce <font color=red>brick</font>, and fields of <font color=gray>grain</font> (grain). Additionally we have <font color=khaki>desert</font> which provide no resources. Every turn, we roll two dice and record the sum $X$. The settlements that are next to the tile that is labelled with $X$ get one resource from that field, and we keep collecting resources and building up to 10 victory points.\n",
    "\n",
    "## Game layout\n",
    "\n",
    "Our modified Catan board is drawn below.\n",
    "\n",
    "Tiles are color coded with the resource they produce: <font color=brown>wood</font>, <font color=red>brick</font>, <font color=green>grain</font>. (and <font color=khaki>desert</font>)\n",
    "\n",
    "You build <font color=purple>settlements</font> and <font color=blue>cities</font> on vertices of the board. The small purple square is a settlement, labeled \"1\" because it gives you one resource of the surrounding tiles when the corresponding number is rolled. The small blue square is a city and gives you 2 resources from surrounding tiles.\n",
    "\n",
    "These settlements and cities must be connected by roads (white)."
   ]
  },
  {
   "cell_type": "code",
   "execution_count": null,
   "metadata": {},
   "outputs": [],
   "source": [
    "import numpy as np\n",
    "from catan import Catan, CatanException, get_random_dice_arrangement, Player, Game, simulate_1p_game, simulate_1p_game_with_data\n",
    "import matplotlib.pyplot as plt\n",
    "from itertools import repeat\n",
    "%matplotlib inline"
   ]
  },
  {
   "cell_type": "code",
   "execution_count": null,
   "metadata": {},
   "outputs": [],
   "source": [
    "width, height = 4,4\n",
    "dice = get_random_dice_arrangement(width, height)\n",
    "resources = np.random.randint(0, 3, (height, width))\n",
    "board = Catan(dice, resources, {6:0, 16:1}, {13:0}, {(6, 7):0, (7, 12):0, (12, 13):0, (16,17): 1})\n",
    "board.register_player()\n",
    "board.register_player()\n",
    "board.draw()"
   ]
  },
  {
   "cell_type": "markdown",
   "metadata": {},
   "source": [
    "\n",
    "## Rules\n",
    "When implementing your Catan strategy, remember to follow these rules:\n",
    "<ul>\n",
    "<li> Every turn you roll 2 dice, call the sum X </li>\n",
    "<li> Find tiles labeled with the number X and collect one of that resource for every settlement and two of that resource for every city on a vertex of that tile (this logic is implemented for you already) </li>\n",
    "<li> If a 7 is rolled, the player must dump resources until their total resource count is below the max resource limit. </li>\n",
    "<!---<li> You can never have more than 6 of any resource: if you get extra, you just keep 6 </li>--->\n",
    "<li> You can trade 4 resources of the same kind for a resource of your choice (i.e. 4 grain for 1 wood) </li>\n",
    "<li> If you have a settlement or a city built on one of the 4 ports (4 corners), you can trade at a discount <ul>\n",
    "<li> Bottom left hand corner: wood port, trade 2 wood for 1 of any other resource </li>\n",
    "<li> Bottom right hand corner: brick port, trade 2 brick for 1 of any other resource </li>\n",
    "<li> Upper left hand corner: grain port, trade 2 grain for 1 of any other resource </li>\n",
    "<li> Upper right hand corner: general port, trade 3 of any resource for 1 of any other resource </li>\n",
    "</ul></li>\n",
    "<li>Settlements must be connected by roads </li>\n",
    "<li>Roads must be connected to settlements / cities or other roads </li>\n",
    "<li>Settlements cannot be built adjacent to other settlements or cities </li>\n",
    "<li> You can build by paying resources according to the costs below, and building any non-road item (including buying a development card) gives you 1 victory point </li>\n",
    "<li> You start the game off with 3 of each resource and no buildings </li>\n",
    "<li> You may make as many purchases as you want per turn </li>\n",
    "<li> You are alloted 3 minutes of computation time per 100 games over a fixed board. </li>\n",
    "    <ul> <li> You are free to divide this time between planBoard and realtime computation as you wish\n",
    "        </li> </ul>\n",
    "</ul>\n",
    "\n",
    "## Costs\n",
    "You can build settlements or cities, which boost your production and gain you a victory point, buy roads to enable new settlement buying, or buy development cards which brings you an additional victory point.\n",
    "\n",
    "The costs are given below, and stored in the array costs for convenience."
   ]
  },
  {
   "cell_type": "code",
   "execution_count": null,
   "metadata": {},
   "outputs": [],
   "source": [
    "import pandas as pd\n",
    "\n",
    "costs = np.array([[2, 1, 1],\n",
    "                  [1, 2, 2],\n",
    "                  [0, 3, 3],\n",
    "                  [1, 1, 0]])\n",
    "\n",
    "resources = ['wood', 'brick', 'grain']\n",
    "buildings = ['settlement', 'card', 'city', 'road']\n",
    "df = pd.DataFrame(costs, index=buildings, columns=resources)\n",
    "html = df.to_html()\n",
    "from IPython.core.display import HTML\n",
    "HTML(html)"
   ]
  },
  {
   "cell_type": "markdown",
   "metadata": {},
   "source": [
    "The Catan board is implemented for you, with utilities to draw and get a table of resources gained. Feel free to skip this for now, play with the demo below, then come back up to reread the details of the implementation.\n",
    "\n",
    " \n",
    "Here's a short API of the classes and methods implemented in catan.py (which you're encouraged to check out):\n",
    "\n",
    "#### BOARD CLASS\n",
    "\n",
    "To initialize a board: \n",
    "`board = Catan(dice, resources, settlements, cities)`\n",
    "\n",
    "The constructor initializes our Catan board. Dice and resources must be the same shape: HxW where H is the height of the board and W is the width. dice[i,j] is the dice number that tile corresponds to (each element between 2-12 inclusive) and resources[i,j] is the resource that tile  provides. Settlements is a dictionary mapping vertices with settlements on them to player ids, and likewise for cities.\n",
    "\n",
    "`board.clear_board()`\n",
    "clears the board for a new game.\n",
    "\n",
    "`board.register_player()`\n",
    "registers a player to play on this board.\n",
    "\n",
    "`board.build(x,y,building,player_id)`\n",
    "takes in two coordinates, x and y, a building type (\"city\"/\"settlement\"), and a player_id and builds that player's building at the specified location. If the building cannot be built at that location, an exception is thrown.\n",
    "\n",
    "`board.build_road(c0,c1,player_id)`\n",
    "takes in two vertex location tuples (x0,y0) and (x1,y1), and a player_id and builds a road between the two vertices. If the road cannot be built at that location, an exception is thrown.\n",
    "\n",
    "`board.if_can_build(building,x,y,player_id)`\n",
    "returns False if a building cannot be built at that vertex for that player. Otherwise, it returns True.\n",
    "\n",
    "`board.if_can_build_road(v1,v2,player_id)`\n",
    "returns False if a road cannot be built between vertices v1 and v2 for that player. Otherwise, it returns true.\n",
    "\n",
    "`board.is_port(vertex)`\n",
    "returns True if vertex is located on a port, False otherwise.\n",
    "\n",
    "`board.which_port(v)`\n",
    "returns which port vertex v corresponds to (0 : wood port, 1 : brick port, 2 : grain port, 3 : general port).\n",
    "\n",
    "`board.get_resources(player_id)`\n",
    "returns a 11x3 numpy array of resources gained for each possible dice sum for the given player. That is, r[i, :] = resources gained from throwing a (i+2).\n",
    "\n",
    "`board.draw()`\n",
    "draws the board.\n",
    "\n",
    "\n",
    "#### PLAYER CLASS\n",
    "\n",
    "`player = Player(player_name,action,dumpPolicy,resources,points=0,turn_counter=0)`\n",
    "Where player_name is a string, an action is a function, dumpPolicy is a function, resources is an array, points and turn_counter are integers used for debugging.\n",
    "\n",
    "`player.join_board(board)`\n",
    "takes in a board instance and registers the player to this board, and reinitializes the player instance variables to the default initialization.\n",
    "\n",
    "`player.get_settlements()`\n",
    "`player.get_cities()`\n",
    "`player.get_roads)`\n",
    "gets a list of the players respective pieces from the board the player is registered with.\n",
    "\n",
    "`player.if_can_buy(item)` \n",
    "returns True if the player can afford item (\"card\"/\"settlement\"/\"city\") and False otherwise\n",
    "\n",
    "`player.buy(item)` \n",
    "actually buys the item and throws a CatanException if that is not possible. Note that you need to specify the location of an item with the optional arguments `x`,`y` if you are buying a city, settlement, or road.\n",
    "\n",
    "`player.trade(r_in,r_out)`\n",
    "Trades resource r_in for r_out with ratio 4:1, unless player owns a port allowing for better trades. Throws an exception if player does not have the required amount of resource r_in to complete the trade.\n",
    "\n",
    "\n",
    "#### TESTING\n",
    "\n",
    "To initialize a game:\n",
    "`game = Game(board, players)` where board is a `Catan` instance and players are a list of `Player` instances.\n",
    "\n",
    "`game.play_round()` \n",
    "plays one round of Catan: rolls the dice, collects the resources and calls the function action() for each player once.\n",
    "\n",
    "`game.check_win()`\n",
    "checks if a player has one and if so, returns the player's name and the number of turns played. If not, returns false.\n",
    "\n",
    "`game.run_game_to_completion()`\n",
    "runs a single game and returns the winner's name and the number of turns the winner took to win.\n",
    "\n",
    "`game.restart_game()`\n",
    "restarts the players and the game board for a new game.\n",
    "\n",
    "`game.simulate_game(num_trials)`\n",
    "simulates $num\\_trials$ games and returns a dictionary mapping player names to their $[average\\_turns, win\\_rate]$.\n",
    "\n",
    "`game.simulate_one_game_with_data()`\n",
    "simulates one game and returns a list of settlements, cities, roads, hands, live_points, and dice_rolls at each turn.\n",
    "\n",
    "`simulate_1p_game(action, dumpPolicy, planBoard, board, num_trials)`\n",
    "Simulates $num\\_trials$ games on $board$, with the precompute method $planBoard$ to be used beforehand, and the $action$ and $dumpPolicy$ methods for a one player game. Returns the average turns taken to win.\n",
    "\n",
    "`simulate_1p_game_with_data(action, dumpPolicy, planBoard, board)`\n",
    "simulates a one player game with the respective methods and board, returning a list of settlements, cities, roads, hands, live_points, and dice_rolls.\n"
   ]
  },
  {
   "cell_type": "markdown",
   "metadata": {},
   "source": [
    "##  <font color=blue>$\\mathcal{Q}$1. Learning the Game</font>"
   ]
  },
  {
   "cell_type": "code",
   "execution_count": null,
   "metadata": {},
   "outputs": [],
   "source": [
    "board.draw()\n",
    "print(board.get_resources())\n",
    "\n",
    "# wood is brown, brick is red, grain is green \n",
    "# below is the resource outcome of a dice roll 2-12"
   ]
  },
  {
   "cell_type": "markdown",
   "metadata": {},
   "source": [
    "## Game Simulation\n",
    "\n",
    "Run the code below to see a game in action! This will use our (bad) sample policy."
   ]
  },
  {
   "cell_type": "code",
   "execution_count": null,
   "metadata": {},
   "outputs": [],
   "source": [
    "# sample action function: takes in the \"Player\"\n",
    "def action(self):\n",
    "    # inputs:\n",
    "    # resources - an array of resources\n",
    "    # costs - an array of costs, 0 - settlement, 1 - card, 2 - city\n",
    "    # basic strategy: Once we get 4 of one resource, we make a trade. \n",
    "    # Then we try to buy development cards\n",
    "    if self.get_settlements() == []:\n",
    "        (x,y) = self.preComp #use the optimal settlement location  \n",
    "        self.buy(\"settlement\", x, y) # we determined previously\n",
    "    elif self.if_can_buy(\"card\"):\n",
    "        self.buy(\"card\")\n",
    "    elif self.resources[np.argmax(self.resources)] >= 4:\n",
    "        rmax, rmin = np.argmax(self.resources), np.argmin(self.resources)\n",
    "        self.trade(rmax,rmin)\n",
    "    return\n",
    "\n",
    "# sample dump policy function: takes in the \"Player\" and ROBBER_MAX_RESOURCES\n",
    "# and returns a resource array which indicates the number of each resource to dump.\n",
    "# self.resources - dumpPolicy(self, max_resources) must sum up to less than or equal ROBBER_MAX_RESOURCES\n",
    "def dumpPolicy(self, max_resources):\n",
    "    new_resources = np.minimum(self.resources, max_resources // 3)\n",
    "    return self.resources - new_resources\n",
    "\n",
    "def planBoard(baseBoard):\n",
    "    # prefer middle of the board over edges\n",
    "    x = np.random.randint(1, baseBoard.width)\n",
    "    y = np.random.randint(1, baseBoard.height)\n",
    "    optSettlementLoc = (x,y)\n",
    "    return optSettlementLoc\n",
    "    \n",
    "num_trials = 100\n",
    "\n",
    "width, height = 4, 4\n",
    "dice = get_random_dice_arrangement(width, height)\n",
    "resources = np.random.randint(0, 3, (height, width))\n",
    "board = Catan(dice, resources)\n",
    "print(\"average turns to win: {}\".format(simulate_1p_game(action, dumpPolicy, planBoard, board, num_trials)))"
   ]
  },
  {
   "cell_type": "code",
   "execution_count": null,
   "metadata": {},
   "outputs": [],
   "source": [
    "settlements, cities, roads, hands, live_points, dice_rolls = simulate_1p_game_with_data(action, dumpPolicy, planBoard, board)\n",
    "\n",
    "def draw(t):\n",
    "    t = int(t)\n",
    "    live_board = Catan(board.dice, board.resources, [], [])\n",
    "    live_board.settlements = settlements[t]\n",
    "    live_board.cities = cities[t]\n",
    "    live_board.roads = roads[t]\n",
    "    print(\"turn:\", t)\n",
    "    print(\"points:\", live_points[t])\n",
    "    print(\"dice roll:\", dice_rolls[t])\n",
    "    print(\"resources:\", hands[t])\n",
    "    live_board.draw()"
   ]
  },
  {
   "cell_type": "code",
   "execution_count": null,
   "metadata": {},
   "outputs": [],
   "source": [
    "#If this cell doesn't work, run the two commands below in terminal\n",
    "# pip install ipywidgets\n",
    "# jupyter nbextension enable --py --sys-prefix widgetsnbextension\n",
    "\n",
    "from ipywidgets import *\n",
    "interact(draw, t=(0, len(live_points) - 1, 1))"
   ]
  },
  {
   "cell_type": "markdown",
   "metadata": {},
   "source": [
    "You are responsible for designing a good action / planning policy. Keep in mind that you are only allowed to modify these two methods, and that your action / planBoard functions must operate within a time constraint (under 3 minutes for 100 trials on a fixed board)."
   ]
  },
  {
   "cell_type": "markdown",
   "metadata": {},
   "source": [
    "## Competition\n",
    "As you may have noticed, the Board, Player, and Game classes are also designed for multiplayer games. We would like you to design player functions optimized against $n$ other players on the game board. Do your best to outcompete our staff `Player` class which will be released later on. An example of how to play games against different players is provided below. In our example, we play our (bad) sample policy against itself."
   ]
  },
  {
   "cell_type": "code",
   "execution_count": null,
   "metadata": {},
   "outputs": [],
   "source": [
    "# Initialize board\n",
    "dice = get_random_dice_arrangement(width, height)\n",
    "resources = np.random.randint(0, 3, (height, width))\n",
    "board = Catan(dice, resources)\n",
    "\n",
    "# Initialize players\n",
    "player1 = Player(\"Player 1\", action, dumpPolicy, planBoard)\n",
    "player2 = Player(\"Player 2\", action, dumpPolicy, planBoard)\n",
    "\n",
    "# Initialize game\n",
    "game = Game(board, [player1, player2])\n",
    "\n",
    "# Simulate game and report results\n",
    "results = game.simulate_game(num_trials)\n",
    "for r in results:\n",
    "    print(\"{} has a win rate of {}, with average {} turns per won game\".format(r, results[r][1], round(results[r][0], 2)))"
   ]
  },
  {
   "cell_type": "markdown",
   "metadata": {},
   "source": [
    "##  <font color=blue> Efficient Optimization [OPTIONAL]\n",
    "### <font color=blue> This is just one suggestion of how to proceed. The important thing is to separate the adversarial real world game of Catan from this simulation, and to think in a stochastic optimization mindset. </font>"
   ]
  },
  {
   "cell_type": "markdown",
   "metadata": {},
   "source": [
    "In the final phase of the project, use the tools you wrote above to figure out the best action sequence to minimize the time until you reach 10 points. To make our calculations tractable we can compute something a little different than finding the optimum action over all actions and all possible game states. Instead, we can reduce the goal at any given moment to building the _next_ objective. In this framework, we need to minimize the expected time from having no resources to building each objective. The below questions are optional but we recommend at least looking over them to see the topics we cover in class from a computing point of view, and it can be part of your \"extension\" to the project."
   ]
  },
  {
   "cell_type": "markdown",
   "metadata": {},
   "source": [
    "Below are a few more utility functions you may use to handle converting state triplets into integers."
   ]
  },
  {
   "cell_type": "code",
   "execution_count": null,
   "metadata": {},
   "outputs": [],
   "source": [
    "# hand = (w, b, g)\n",
    "LIMIT = 7 # can have 0-6 of each resource\n",
    "\n",
    "def encode(w, b, g):\n",
    "    return LIMIT * LIMIT * w + LIMIT * b + g\n",
    "\n",
    "def decode(n):\n",
    "    x = n % (LIMIT * LIMIT)\n",
    "    return (n // (LIMIT * LIMIT), x // LIMIT, x % LIMIT)"
   ]
  },
  {
   "cell_type": "code",
   "execution_count": null,
   "metadata": {},
   "outputs": [],
   "source": [
    "l = np.array((LIMIT-1, LIMIT-1, LIMIT-1))\n",
    "def floor(state):\n",
    "    return np.minimum(l, state)"
   ]
  },
  {
   "cell_type": "markdown",
   "metadata": {
    "collapsed": true
   },
   "source": [
    "### <font color=blue> 1. Create a function `get_transition_matrix` which returns the transition matrix of your Markov chain. </font>"
   ]
  },
  {
   "cell_type": "code",
   "execution_count": null,
   "metadata": {},
   "outputs": [],
   "source": [
    "def transition_matrix(board):\n",
    "    \"\"\"returns matrix T[i, j] = P(transition from state i to state j)\"\"\"\n",
    "    ### Fill in your solution here\n",
    "    return np.zeros((2,2))\n",
    "\n",
    "T = transition_matrix(board)\n",
    "print(T)"
   ]
  },
  {
   "cell_type": "markdown",
   "metadata": {},
   "source": [
    "##  <font color=blue> Calculating Hitting Time</font>\n",
    "\n",
    "Let's start by building a useful function to answer the question: given a board layout and starting resources, how long will it take until you can afford a specific building?\n",
    "\n",
    "Hint: one method would be to create another Markov chain/transition matrix where the hitting time between two of the states gives the time until you can afford a building."
   ]
  },
  {
   "cell_type": "markdown",
   "metadata": {},
   "source": [
    "### <font color=blue> 2a. Write a function to calculate mean hitting time from 0 resources until you can afford a building."
   ]
  },
  {
   "cell_type": "code",
   "execution_count": null,
   "metadata": {},
   "outputs": [],
   "source": [
    "def hitting_time(board, building):\n",
    "    ### your code here\n",
    "    return [42]\n",
    "    \n",
    "h = hitting_time(board, 1) # calculates time until we can afford a VP card\n",
    "print(h)"
   ]
  },
  {
   "cell_type": "markdown",
   "metadata": {},
   "source": [
    "### <font color=blue> 2b. Simulate the Markov process and record the expected hitting time to states to check the accuracy of your hitting time function. </font>"
   ]
  },
  {
   "cell_type": "code",
   "execution_count": null,
   "metadata": {},
   "outputs": [],
   "source": [
    "# simulator goes here\n"
   ]
  },
  {
   "cell_type": "markdown",
   "metadata": {},
   "source": [
    "Now you can minimize total expected hitting time with your policy using your hitting time function to speed up the optimization instead of simulating everything."
   ]
  }
 ],
 "metadata": {
  "anaconda-cloud": {},
  "kernelspec": {
   "display_name": "Python 3",
   "language": "python",
   "name": "python3"
  },
  "language_info": {
   "codemirror_mode": {
    "name": "ipython",
    "version": 3
   },
   "file_extension": ".py",
   "mimetype": "text/x-python",
   "name": "python",
   "nbconvert_exporter": "python",
   "pygments_lexer": "ipython3",
   "version": "3.6.2"
  }
 },
 "nbformat": 4,
 "nbformat_minor": 1
}
