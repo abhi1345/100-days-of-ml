{
  "nbformat": 4,
  "nbformat_minor": 0,
  "metadata": {
    "colab": {
      "name": "Boston House Prices with Keras.ipynb",
      "version": "0.3.2",
      "provenance": [],
      "collapsed_sections": []
    },
    "kernelspec": {
      "name": "python3",
      "display_name": "Python 3"
    }
  },
  "cells": [
    {
      "metadata": {
        "id": "WkRHu-_J-k4k",
        "colab_type": "code",
        "colab": {}
      },
      "cell_type": "code",
      "source": [
        "#Import libraries\n",
        "from keras.datasets import boston_housing\n",
        "from keras.models import Sequential\n",
        "from keras.layers import Dense\n",
        "import numpy as np"
      ],
      "execution_count": 0,
      "outputs": []
    },
    {
      "metadata": {
        "id": "tsz6HMp9-mh9",
        "colab_type": "code",
        "colab": {}
      },
      "cell_type": "code",
      "source": [
        "#Load the data\n",
        "(x_train, y_train), (x_test, y_test) = boston_housing.load_data()"
      ],
      "execution_count": 0,
      "outputs": []
    },
    {
      "metadata": {
        "id": "vltT8cxJ_rQP",
        "colab_type": "code",
        "colab": {}
      },
      "cell_type": "code",
      "source": [
        "#Create the model\n",
        "model = Sequential()\n",
        "\n",
        "model.add(Dense(units=200, activation='relu', input_dim=13, kernel_initializer='normal'))\n",
        "model.add(Dense(units=400, activation='relu', kernel_initializer='normal'))\n",
        "model.add(Dense(units=1, kernel_initializer='normal'))\n",
        "\n",
        "model.compile(loss='mae',\n",
        "            optimizer='adam',\n",
        "           metrics=['mae', 'mape'])"
      ],
      "execution_count": 0,
      "outputs": []
    },
    {
      "metadata": {
        "id": "AjNg6UFYAVWY",
        "colab_type": "code",
        "colab": {
          "base_uri": "https://localhost:8080/",
          "height": 1054
        },
        "outputId": "3789e28b-00d7-4863-91b3-2fc07976ecde"
      },
      "cell_type": "code",
      "source": [
        "#Train the model\n",
        "model.fit(x_train, y_train, epochs=30, verbose=1, batch_size=32)"
      ],
      "execution_count": 30,
      "outputs": [
        {
          "output_type": "stream",
          "text": [
            "Epoch 1/30\n",
            "404/404 [==============================] - 0s 182us/step - loss: 1.0356 - mean_absolute_error: 1.0356 - mean_absolute_percentage_error: 5.1247\n",
            "Epoch 2/30\n",
            "404/404 [==============================] - 0s 147us/step - loss: 1.1316 - mean_absolute_error: 1.1316 - mean_absolute_percentage_error: 5.6157\n",
            "Epoch 3/30\n",
            "404/404 [==============================] - 0s 170us/step - loss: 1.0660 - mean_absolute_error: 1.0660 - mean_absolute_percentage_error: 5.1402\n",
            "Epoch 4/30\n",
            "404/404 [==============================] - 0s 166us/step - loss: 1.1731 - mean_absolute_error: 1.1731 - mean_absolute_percentage_error: 5.6752\n",
            "Epoch 5/30\n",
            "404/404 [==============================] - 0s 171us/step - loss: 1.2351 - mean_absolute_error: 1.2351 - mean_absolute_percentage_error: 6.1795\n",
            "Epoch 6/30\n",
            "404/404 [==============================] - 0s 152us/step - loss: 1.2557 - mean_absolute_error: 1.2557 - mean_absolute_percentage_error: 6.2972\n",
            "Epoch 7/30\n",
            "404/404 [==============================] - 0s 174us/step - loss: 1.1480 - mean_absolute_error: 1.1480 - mean_absolute_percentage_error: 5.6798\n",
            "Epoch 8/30\n",
            "404/404 [==============================] - 0s 159us/step - loss: 1.1300 - mean_absolute_error: 1.1300 - mean_absolute_percentage_error: 5.5270\n",
            "Epoch 9/30\n",
            "404/404 [==============================] - 0s 156us/step - loss: 1.1769 - mean_absolute_error: 1.1769 - mean_absolute_percentage_error: 6.0094\n",
            "Epoch 10/30\n",
            "404/404 [==============================] - 0s 172us/step - loss: 1.1026 - mean_absolute_error: 1.1026 - mean_absolute_percentage_error: 5.6044\n",
            "Epoch 11/30\n",
            "404/404 [==============================] - 0s 188us/step - loss: 1.0401 - mean_absolute_error: 1.0401 - mean_absolute_percentage_error: 5.1662\n",
            "Epoch 12/30\n",
            "404/404 [==============================] - 0s 170us/step - loss: 1.0912 - mean_absolute_error: 1.0912 - mean_absolute_percentage_error: 5.3223\n",
            "Epoch 13/30\n",
            "404/404 [==============================] - 0s 174us/step - loss: 1.2781 - mean_absolute_error: 1.2781 - mean_absolute_percentage_error: 6.1377\n",
            "Epoch 14/30\n",
            "404/404 [==============================] - 0s 147us/step - loss: 1.1512 - mean_absolute_error: 1.1512 - mean_absolute_percentage_error: 5.5551\n",
            "Epoch 15/30\n",
            "404/404 [==============================] - 0s 174us/step - loss: 0.9869 - mean_absolute_error: 0.9869 - mean_absolute_percentage_error: 5.0088\n",
            "Epoch 16/30\n",
            "404/404 [==============================] - 0s 171us/step - loss: 1.0656 - mean_absolute_error: 1.0656 - mean_absolute_percentage_error: 5.2757\n",
            "Epoch 17/30\n",
            "404/404 [==============================] - 0s 174us/step - loss: 1.1607 - mean_absolute_error: 1.1607 - mean_absolute_percentage_error: 5.6295\n",
            "Epoch 18/30\n",
            "404/404 [==============================] - 0s 138us/step - loss: 1.0893 - mean_absolute_error: 1.0893 - mean_absolute_percentage_error: 5.6108\n",
            "Epoch 19/30\n",
            "404/404 [==============================] - 0s 172us/step - loss: 0.9705 - mean_absolute_error: 0.9705 - mean_absolute_percentage_error: 4.8350\n",
            "Epoch 20/30\n",
            "404/404 [==============================] - 0s 149us/step - loss: 1.0392 - mean_absolute_error: 1.0392 - mean_absolute_percentage_error: 5.1883\n",
            "Epoch 21/30\n",
            "404/404 [==============================] - 0s 175us/step - loss: 1.1332 - mean_absolute_error: 1.1332 - mean_absolute_percentage_error: 5.6506\n",
            "Epoch 22/30\n",
            "404/404 [==============================] - 0s 149us/step - loss: 1.0449 - mean_absolute_error: 1.0449 - mean_absolute_percentage_error: 5.4813\n",
            "Epoch 23/30\n",
            "404/404 [==============================] - 0s 181us/step - loss: 0.9692 - mean_absolute_error: 0.9692 - mean_absolute_percentage_error: 4.8806\n",
            "Epoch 24/30\n",
            "404/404 [==============================] - 0s 170us/step - loss: 0.9703 - mean_absolute_error: 0.9703 - mean_absolute_percentage_error: 4.8264\n",
            "Epoch 25/30\n",
            "404/404 [==============================] - 0s 171us/step - loss: 1.0952 - mean_absolute_error: 1.0952 - mean_absolute_percentage_error: 5.2404\n",
            "Epoch 26/30\n",
            "404/404 [==============================] - 0s 151us/step - loss: 1.0895 - mean_absolute_error: 1.0895 - mean_absolute_percentage_error: 5.3704\n",
            "Epoch 27/30\n",
            "404/404 [==============================] - 0s 164us/step - loss: 0.9832 - mean_absolute_error: 0.9832 - mean_absolute_percentage_error: 4.7644\n",
            "Epoch 28/30\n",
            "404/404 [==============================] - 0s 155us/step - loss: 0.9630 - mean_absolute_error: 0.9630 - mean_absolute_percentage_error: 4.8023\n",
            "Epoch 29/30\n",
            "404/404 [==============================] - 0s 149us/step - loss: 1.0327 - mean_absolute_error: 1.0327 - mean_absolute_percentage_error: 5.0807\n",
            "Epoch 30/30\n",
            "404/404 [==============================] - 0s 177us/step - loss: 1.0843 - mean_absolute_error: 1.0843 - mean_absolute_percentage_error: 5.3309\n"
          ],
          "name": "stdout"
        },
        {
          "output_type": "execute_result",
          "data": {
            "text/plain": [
              "<keras.callbacks.History at 0x7f7aeab9ea20>"
            ]
          },
          "metadata": {
            "tags": []
          },
          "execution_count": 30
        }
      ]
    },
    {
      "metadata": {
        "id": "JXqoIAZjHTKr",
        "colab_type": "code",
        "colab": {
          "base_uri": "https://localhost:8080/",
          "height": 51
        },
        "outputId": "08e40579-c5c5-43e9-ec4b-4a3145a79afc"
      },
      "cell_type": "code",
      "source": [
        "#Evaluate the model\n",
        "loss_andmetrics = model.evaluate(x_test, y_test)\n",
        "perror = loss_andmetrics[2]\n",
        "merror = loss_andmetrics[0]\n",
        "print(\"Percent error: {}%. Mean Error: {}\".format(perror, merror))"
      ],
      "execution_count": 33,
      "outputs": [
        {
          "output_type": "stream",
          "text": [
            "102/102 [==============================] - 0s 165us/step\n",
            "Percent error: 13.789328444237803%. Mean Error: 2.7375028928120932\n"
          ],
          "name": "stdout"
        }
      ]
    },
    {
      "metadata": {
        "id": "TJpLeqXNHnVf",
        "colab_type": "code",
        "colab": {}
      },
      "cell_type": "code",
      "source": [
        ""
      ],
      "execution_count": 0,
      "outputs": []
    },
    {
      "metadata": {
        "id": "M2GshiSiIVYS",
        "colab_type": "code",
        "colab": {}
      },
      "cell_type": "code",
      "source": [
        ""
      ],
      "execution_count": 0,
      "outputs": []
    }
  ]
}