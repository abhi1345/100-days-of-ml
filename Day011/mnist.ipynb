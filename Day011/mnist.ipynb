{
 "cells": [
  {
   "cell_type": "code",
   "execution_count": 1,
   "metadata": {
    "_cell_guid": "b1076dfc-b9ad-4769-8c92-a6c4dae69d19",
    "_uuid": "8f2839f25d086af736a60e9eeb907d3b93b6e0e5"
   },
   "outputs": [
    {
     "name": "stderr",
     "output_type": "stream",
     "text": [
      "Using TensorFlow backend.\n"
     ]
    },
    {
     "name": "stdout",
     "output_type": "stream",
     "text": [
      "['train.csv', 'sample_submission.csv', 'test.csv']\n"
     ]
    }
   ],
   "source": [
    "# This Python 3 environment comes with many helpful analytics libraries installed\n",
    "# It is defined by the kaggle/python docker image: https://github.com/kaggle/docker-python\n",
    "# For example, here's several helpful packages to load in \n",
    "\n",
    "import numpy as np # linear algebra\n",
    "import pandas as pd # data processing, CSV file I/O (e.g. pd.read_csv)\n",
    "from keras.models import Sequential\n",
    "from keras.layers import Dense, Activation\n",
    "from keras.datasets import mnist\n",
    "from keras.utils import to_categorical\n",
    "\n",
    "# Input data files are available in the \"../input/\" directory.\n",
    "# For example, running this (by clicking run or pressing Shift+Enter) will list the files in the input directory\n",
    "\n",
    "import os\n",
    "print(os.listdir(\"../input\"))\n",
    "\n",
    "# Any results you write to the current directory are saved as output."
   ]
  },
  {
   "cell_type": "code",
   "execution_count": 2,
   "metadata": {},
   "outputs": [
    {
     "name": "stdout",
     "output_type": "stream",
     "text": [
      "Downloading data from https://s3.amazonaws.com/img-datasets/mnist.npz\n",
      "11493376/11490434 [==============================] - 0s 0us/step\n"
     ]
    }
   ],
   "source": [
    "#download mnist data and split into train and test sets\n",
    "(X_train, y_train), (X_test, y_test) = mnist.load_data()"
   ]
  },
  {
   "cell_type": "code",
   "execution_count": 3,
   "metadata": {},
   "outputs": [],
   "source": [
    "\n",
    "#reshape data to fit model\n",
    "X_train = X_train.reshape(60000,28,28,1)\n",
    "X_test = X_test.reshape(10000,28,28,1)\n",
    "\n",
    "#one-hot encode target column\n",
    "y_train = to_categorical(y_train)\n",
    "y_test = to_categorical(y_test)"
   ]
  },
  {
   "cell_type": "code",
   "execution_count": 4,
   "metadata": {},
   "outputs": [
    {
     "name": "stdout",
     "output_type": "stream",
     "text": [
      "WARNING:tensorflow:From /opt/conda/lib/python3.6/site-packages/tensorflow/python/framework/op_def_library.py:263: colocate_with (from tensorflow.python.framework.ops) is deprecated and will be removed in a future version.\n",
      "Instructions for updating:\n",
      "Colocations handled automatically by placer.\n"
     ]
    }
   ],
   "source": [
    "from keras.models import Sequential\n",
    "from keras.layers import Dense, Conv2D, Flatten\n",
    "#create model\n",
    "model = Sequential()\n",
    "#add model layers\n",
    "model.add(Conv2D(1, kernel_size=3, activation=\"relu\", input_shape=(28, 28, 1)))\n",
    "model.add(Conv2D(1, kernel_size=3, activation=\"relu\"))\n",
    "model.add(Flatten())\n",
    "model.add(Dense(100, activation=\"relu\"))\n",
    "model.add(Dense(25, activation=\"relu\"))\n",
    "model.add(Dense(10, activation=\"softmax\"))"
   ]
  },
  {
   "cell_type": "code",
   "execution_count": 5,
   "metadata": {},
   "outputs": [],
   "source": [
    "model.compile(optimizer='adam', loss='categorical_crossentropy', metrics=['accuracy'])"
   ]
  },
  {
   "cell_type": "code",
   "execution_count": 6,
   "metadata": {},
   "outputs": [
    {
     "name": "stdout",
     "output_type": "stream",
     "text": [
      "WARNING:tensorflow:From /opt/conda/lib/python3.6/site-packages/tensorflow/python/ops/math_ops.py:3066: to_int32 (from tensorflow.python.ops.math_ops) is deprecated and will be removed in a future version.\n",
      "Instructions for updating:\n",
      "Use tf.cast instead.\n",
      "Epoch 1/10\n",
      "10000/10000 [==============================] - 6s 648us/step - loss: 1.4176 - acc: 0.6006\n",
      "Epoch 2/10\n",
      "10000/10000 [==============================] - 1s 134us/step - loss: 0.3872 - acc: 0.8842\n",
      "Epoch 3/10\n",
      "10000/10000 [==============================] - 1s 134us/step - loss: 0.1962 - acc: 0.9393\n",
      "Epoch 4/10\n",
      "10000/10000 [==============================] - 1s 135us/step - loss: 0.1102 - acc: 0.9671\n",
      "Epoch 5/10\n",
      "10000/10000 [==============================] - 1s 137us/step - loss: 0.0692 - acc: 0.9799\n",
      "Epoch 6/10\n",
      "10000/10000 [==============================] - 1s 135us/step - loss: 0.0629 - acc: 0.9805\n",
      "Epoch 7/10\n",
      "10000/10000 [==============================] - 1s 135us/step - loss: 0.0454 - acc: 0.9854\n",
      "Epoch 8/10\n",
      "10000/10000 [==============================] - 1s 136us/step - loss: 0.0391 - acc: 0.9891\n",
      "Epoch 9/10\n",
      "10000/10000 [==============================] - 1s 135us/step - loss: 0.0545 - acc: 0.9856\n",
      "Epoch 10/10\n",
      "10000/10000 [==============================] - 1s 135us/step - loss: 0.0635 - acc: 0.9812\n"
     ]
    },
    {
     "data": {
      "text/plain": [
       "<keras.callbacks.History at 0x7f6ac87cf630>"
      ]
     },
     "execution_count": 6,
     "metadata": {},
     "output_type": "execute_result"
    }
   ],
   "source": [
    "model.fit(X_test, y_test, epochs=10)"
   ]
  },
  {
   "cell_type": "code",
   "execution_count": 7,
   "metadata": {},
   "outputs": [
    {
     "name": "stdout",
     "output_type": "stream",
     "text": [
      "Epoch 1/25\n",
      "60000/60000 [==============================] - 8s 135us/step - loss: 0.2960 - acc: 0.9119\n",
      "Epoch 2/25\n",
      "60000/60000 [==============================] - 8s 135us/step - loss: 0.1492 - acc: 0.9513\n",
      "Epoch 3/25\n",
      "60000/60000 [==============================] - 8s 138us/step - loss: 0.1105 - acc: 0.9639\n",
      "Epoch 4/25\n",
      "60000/60000 [==============================] - 9s 143us/step - loss: 0.0864 - acc: 0.9714\n",
      "Epoch 5/25\n",
      "60000/60000 [==============================] - 8s 136us/step - loss: 0.0691 - acc: 0.9769\n",
      "Epoch 6/25\n",
      "60000/60000 [==============================] - 8s 136us/step - loss: 0.0559 - acc: 0.9806\n",
      "Epoch 7/25\n",
      "60000/60000 [==============================] - 8s 135us/step - loss: 0.0454 - acc: 0.9844\n",
      "Epoch 8/25\n",
      "60000/60000 [==============================] - 8s 135us/step - loss: 0.0384 - acc: 0.9865\n",
      "Epoch 9/25\n",
      "60000/60000 [==============================] - 8s 134us/step - loss: 0.0345 - acc: 0.9884\n",
      "Epoch 10/25\n",
      "60000/60000 [==============================] - 8s 134us/step - loss: 0.0300 - acc: 0.9900\n",
      "Epoch 11/25\n",
      "60000/60000 [==============================] - 8s 138us/step - loss: 0.0269 - acc: 0.9909\n",
      "Epoch 12/25\n",
      "60000/60000 [==============================] - 8s 135us/step - loss: 0.0229 - acc: 0.9921\n",
      "Epoch 13/25\n",
      "60000/60000 [==============================] - 8s 135us/step - loss: 0.0236 - acc: 0.9920\n",
      "Epoch 14/25\n",
      "60000/60000 [==============================] - 8s 137us/step - loss: 0.0207 - acc: 0.9928\n",
      "Epoch 15/25\n",
      "60000/60000 [==============================] - 8s 136us/step - loss: 0.0199 - acc: 0.9930\n",
      "Epoch 16/25\n",
      "60000/60000 [==============================] - 8s 136us/step - loss: 0.0174 - acc: 0.9942\n",
      "Epoch 17/25\n",
      "60000/60000 [==============================] - 8s 136us/step - loss: 0.0167 - acc: 0.9949\n",
      "Epoch 18/25\n",
      "60000/60000 [==============================] - 8s 135us/step - loss: 0.0175 - acc: 0.9941\n",
      "Epoch 19/25\n",
      "60000/60000 [==============================] - 8s 134us/step - loss: 0.0163 - acc: 0.9948\n",
      "Epoch 20/25\n",
      "60000/60000 [==============================] - 8s 136us/step - loss: 0.0133 - acc: 0.9955\n",
      "Epoch 21/25\n",
      "60000/60000 [==============================] - 8s 135us/step - loss: 0.0150 - acc: 0.9952\n",
      "Epoch 22/25\n",
      "60000/60000 [==============================] - 8s 134us/step - loss: 0.0135 - acc: 0.9959\n",
      "Epoch 23/25\n",
      "60000/60000 [==============================] - 8s 135us/step - loss: 0.0140 - acc: 0.9957\n",
      "Epoch 24/25\n",
      "60000/60000 [==============================] - 8s 137us/step - loss: 0.0129 - acc: 0.9957\n",
      "Epoch 25/25\n",
      "60000/60000 [==============================] - 8s 134us/step - loss: 0.0121 - acc: 0.9960\n"
     ]
    },
    {
     "data": {
      "text/plain": [
       "<keras.callbacks.History at 0x7f6ac87cf860>"
      ]
     },
     "execution_count": 7,
     "metadata": {},
     "output_type": "execute_result"
    }
   ],
   "source": [
    "model.fit(X_train, y_train, epochs=25)"
   ]
  },
  {
   "cell_type": "code",
   "execution_count": 8,
   "metadata": {},
   "outputs": [
    {
     "name": "stderr",
     "output_type": "stream",
     "text": [
      "/opt/conda/lib/python3.6/site-packages/ipykernel_launcher.py:1: FutureWarning: Method .as_matrix will be removed in a future version. Use .values instead.\n",
      "  \"\"\"Entry point for launching an IPython kernel.\n"
     ]
    }
   ],
   "source": [
    "testX = pd.read_csv(\"../input/test.csv\").as_matrix()\n",
    "testX = np.reshape(testX, (28000, 28, 28, 1))"
   ]
  },
  {
   "cell_type": "code",
   "execution_count": 9,
   "metadata": {},
   "outputs": [
    {
     "data": {
      "text/plain": [
       "array([[1.1065791e-21, 9.7656127e-27, 1.0000000e+00, ..., 5.9626428e-17,\n",
       "        5.2587536e-28, 6.5618752e-20],\n",
       "       [1.0000000e+00, 4.3054857e-27, 9.0800211e-17, ..., 5.6666711e-19,\n",
       "        1.2055743e-12, 2.9542229e-17],\n",
       "       [8.7916639e-11, 3.9754081e-15, 6.5222923e-07, ..., 2.5316393e-09,\n",
       "        8.4218681e-03, 9.9156767e-01],\n",
       "       ...,\n",
       "       [2.0164164e-20, 4.6819081e-21, 3.1912301e-18, ..., 4.4131878e-13,\n",
       "        1.1448900e-20, 9.5228721e-15],\n",
       "       [2.8267951e-13, 2.3711708e-12, 1.8982750e-07, ..., 2.0569799e-04,\n",
       "        8.3194736e-11, 9.9977487e-01],\n",
       "       [1.5248923e-24, 4.8110652e-31, 1.0000000e+00, ..., 2.1551796e-18,\n",
       "        1.4955990e-30, 3.8882216e-23]], dtype=float32)"
      ]
     },
     "execution_count": 9,
     "metadata": {},
     "output_type": "execute_result"
    }
   ],
   "source": [
    "testY = model.predict(testX)\n",
    "testY"
   ]
  },
  {
   "cell_type": "code",
   "execution_count": 10,
   "metadata": {},
   "outputs": [
    {
     "data": {
      "text/plain": [
       "array([2, 0, 9, ..., 3, 9, 2])"
      ]
     },
     "execution_count": 10,
     "metadata": {},
     "output_type": "execute_result"
    }
   ],
   "source": [
    "np.argmax(testY, axis=1)"
   ]
  },
  {
   "cell_type": "code",
   "execution_count": 11,
   "metadata": {},
   "outputs": [
    {
     "data": {
      "text/html": [
       "<div>\n",
       "<style scoped>\n",
       "    .dataframe tbody tr th:only-of-type {\n",
       "        vertical-align: middle;\n",
       "    }\n",
       "\n",
       "    .dataframe tbody tr th {\n",
       "        vertical-align: top;\n",
       "    }\n",
       "\n",
       "    .dataframe thead th {\n",
       "        text-align: right;\n",
       "    }\n",
       "</style>\n",
       "<table border=\"1\" class=\"dataframe\">\n",
       "  <thead>\n",
       "    <tr style=\"text-align: right;\">\n",
       "      <th></th>\n",
       "      <th>ImageId</th>\n",
       "      <th>Label</th>\n",
       "    </tr>\n",
       "  </thead>\n",
       "  <tbody>\n",
       "    <tr>\n",
       "      <th>0</th>\n",
       "      <td>1</td>\n",
       "      <td>0</td>\n",
       "    </tr>\n",
       "    <tr>\n",
       "      <th>1</th>\n",
       "      <td>2</td>\n",
       "      <td>0</td>\n",
       "    </tr>\n",
       "    <tr>\n",
       "      <th>2</th>\n",
       "      <td>3</td>\n",
       "      <td>0</td>\n",
       "    </tr>\n",
       "    <tr>\n",
       "      <th>3</th>\n",
       "      <td>4</td>\n",
       "      <td>0</td>\n",
       "    </tr>\n",
       "    <tr>\n",
       "      <th>4</th>\n",
       "      <td>5</td>\n",
       "      <td>0</td>\n",
       "    </tr>\n",
       "  </tbody>\n",
       "</table>\n",
       "</div>"
      ],
      "text/plain": [
       "   ImageId  Label\n",
       "0        1      0\n",
       "1        2      0\n",
       "2        3      0\n",
       "3        4      0\n",
       "4        5      0"
      ]
     },
     "execution_count": 11,
     "metadata": {},
     "output_type": "execute_result"
    }
   ],
   "source": [
    "pd.read_csv(\"../input/sample_submission.csv\").head()"
   ]
  },
  {
   "cell_type": "code",
   "execution_count": 12,
   "metadata": {},
   "outputs": [],
   "source": [
    "def gen_submission(y):\n",
    "    l1 = np.array([i+1 for i in range(28000)])\n",
    "    l2 = y\n",
    "    return pd.DataFrame(np.array([l1, l2]).T, columns=[\"ImageId\", \"Label\"])\n",
    "\n",
    "output = gen_submission(np.argmax(testY, axis=1))"
   ]
  },
  {
   "cell_type": "code",
   "execution_count": 13,
   "metadata": {},
   "outputs": [],
   "source": [
    "output.to_csv(\"first_try.csv\", index=False)"
   ]
  },
  {
   "cell_type": "code",
   "execution_count": 14,
   "metadata": {},
   "outputs": [],
   "source": []
  },
  {
   "cell_type": "code",
   "execution_count": 14,
   "metadata": {},
   "outputs": [],
   "source": []
  }
 ],
 "metadata": {
  "kernelspec": {
   "display_name": "Python 3",
   "language": "python",
   "name": "python3"
  },
  "language_info": {
   "codemirror_mode": {
    "name": "ipython",
    "version": 3
   },
   "file_extension": ".py",
   "mimetype": "text/x-python",
   "name": "python",
   "nbconvert_exporter": "python",
   "pygments_lexer": "ipython3",
   "version": "3.6.4"
  }
 },
 "nbformat": 4,
 "nbformat_minor": 1
}
